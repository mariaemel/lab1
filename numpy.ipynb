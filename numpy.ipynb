{
  "cells": [
    {
      "cell_type": "markdown",
      "metadata": {
        "id": "vC84e9kzyxPy"
      },
      "source": [
        "<h1>Импорт библиотек"
      ]
    },
    {
      "cell_type": "code",
      "execution_count": 3,
      "metadata": {
        "id": "cgKeNegmQG5S"
      },
      "outputs": [],
      "source": [
        "import numpy as np\n",
        "import matplotlib.pyplot as plt"
      ]
    },
    {
      "cell_type": "markdown",
      "metadata": {
        "id": "qFM9uVU2x4Ls"
      },
      "source": [
        "<h1>Задача 1. Дан набор из $p$ матриц размерностью $(n, n)$ и $p$ векторов размерностью $(n, 1)$, найти сумму произведений матриц на векторы. Написать тесты для кода"
      ]
    },
    {
      "cell_type": "code",
      "execution_count": null,
      "metadata": {
        "id": "IAbUvEiYyWFF"
      },
      "outputs": [],
      "source": [
        "def sum_prod(X, V):\n",
        "    # Для каждой пары (матрица, вектор) вычисляется произведение, и все результаты суммируются\n",
        "    result = sum(np.dot(matrix, vector) for matrix, vector in zip(X, V))\n",
        "    return result\n",
        "\n",
        "\n",
        "def test_np():\n",
        "    X = [np.array([[1, 2], [3, 4]]), np.array([[5, 6], [7, 8]])]\n",
        "    V = [np.array([[1], [2]]), np.array([[3], [4]])]\n",
        "    assert np.all(sum_prod(X, V) == np.array([[44], [64]]))\n",
        "\n",
        "    X = [np.array([[1, 2, 3], [4, 5, 6]]), np.array([[7, 8, 9], [10, 11, 12]])]\n",
        "    V = [np.array([[1], [1], [1]]), np.array([[1], [1], [1]])]\n",
        "    assert np.all(sum_prod(X, V) == np.array([[30], [48]]))\n",
        "\n",
        "test_np()"
      ]
    },
    {
      "cell_type": "markdown",
      "metadata": {
        "id": "TKwPG4fIy2w4"
      },
      "source": [
        "<h1>Задача 2. Дана матрица M, напишите функцию, которая бинаризует матрицу по некоторому threshold (то есть, все значения большие threshold становятся равными 1, иначе 0). Напишите тесты для кода"
      ]
    },
    {
      "cell_type": "code",
      "execution_count": null,
      "metadata": {
        "id": "KQDNMgsjRNH7"
      },
      "outputs": [],
      "source": [
        "def binarize(M, threshold=0.5):\n",
        "    return np.where(M > threshold, 1, 0)\n",
        "\n",
        "\n",
        "def test_binarize():\n",
        "    M = np.array([[1, 2], [3, 4]])\n",
        "    assert np.all(np.array([[1, 1], [1, 1]]) == binarize(M, 0.5))\n",
        "\n",
        "    M = np.array([[1, 0], [0, 1]])\n",
        "    assert np.all(np.array([[1, 0], [0, 1]]) == binarize(M, 0.5))\n",
        "\n",
        "test_binarize()"
      ]
    },
    {
      "cell_type": "markdown",
      "metadata": {
        "id": "IY5L-h-7zWhN"
      },
      "source": [
        "<h1>Задача 3. Напишите функцию, которая возвращает уникальные элементы из каждой строки матрицы. Напишите такую же функцию, но для столбцов. Напишите тесты для кода"
      ]
    },
    {
      "cell_type": "code",
      "execution_count": null,
      "metadata": {
        "id": "-8dEZhR0SBC-"
      },
      "outputs": [],
      "source": [
        "#возвращает список, содержащий уникальные элементы для каждой строки матрицы.\n",
        "def unique_rows(mat):\n",
        "    return [np.unique(row) for row in mat]\n",
        "\n",
        "#возвращает список уникальных элементов для каждого столбца.\n",
        "def unique_columns(mat):\n",
        "    return [np.unique(col) for col in mat.T]\n",
        "\n",
        "\n",
        "def test_unique():\n",
        "    mat = np.array([[1, 2, 2], [3, 1, 1], [2, 3, 3]])\n",
        "    assert np.array_equal(unique_rows(mat)[0], np.array([1, 2]))\n",
        "    assert np.array_equal(unique_rows(mat)[1], np.array([1, 3]))\n",
        "    assert np.array_equal(unique_rows(mat)[2], np.array([2, 3]))\n",
        "    \n",
        "    assert np.array_equal(unique_columns(mat)[0], np.array([1, 2, 3]))\n",
        "    assert np.array_equal(unique_columns(mat)[1], np.array([1, 2, 3]))\n",
        "    assert np.array_equal(unique_columns(mat)[2], np.array([1, 2, 3]))\n",
        "\n",
        "test_unique()"
      ]
    },
    {
      "cell_type": "markdown",
      "metadata": {
        "id": "roYAlo4Jz-lH"
      },
      "source": [
        "<h1>Задача 4. Напишите функцию, которая заполняет матрицу с размерами $(m, n)$ случайными числами, распределенными по нормальному закону. Затем считает мат. ожидание и дисперсию для каждого из столбцов и строк, а также строит для каждой строки и столбца гистограмму значений (использовать функцию hist из модуля matplotlib.plot)"
      ]
    },
    {
      "cell_type": "code",
      "execution_count": null,
      "metadata": {
        "id": "nZK_71hMSQzv"
      },
      "outputs": [],
      "source": [
        "def random_matrix_stats_and_histograms(n, m):\n",
        "    # Генерация матрицы\n",
        "    matrix = np.random.randn(n, m)\n",
        "\n",
        "    # Вычисление мат. ожидания и дисперсии по строкам\n",
        "    row_means = np.mean(matrix, axis=1)\n",
        "    row_vars = np.var(matrix, axis=1)\n",
        "\n",
        "    # Вычисление мат. ожидания и дисперсии по столбцам\n",
        "    col_means = np.mean(matrix, axis=0)\n",
        "    col_vars = np.var(matrix, axis=0)\n",
        "\n",
        "    # Вывод результатов\n",
        "    print(\"Мат. ожидания по строкам:\", row_means)\n",
        "    print(\"Дисперсия по строкам:\", row_vars)\n",
        "    print(\"Мат. ожидания по столбцам:\", col_means)\n",
        "    print(\"Дисперсия по столбцам:\", col_vars)\n",
        "\n",
        "    # Построение гистограмм для строк\n",
        "    for i in range(n):\n",
        "        plt.figure(figsize=(10, 4))\n",
        "        plt.hist(matrix[i, :], bins=10, alpha=0.75, color='blue', edgecolor='black')\n",
        "        plt.title(f'Гистограмма строки {i+1}')\n",
        "        plt.xlabel('Значение')\n",
        "        plt.ylabel('Частота')\n",
        "        plt.grid(True)\n",
        "        plt.show()\n",
        "\n",
        "    # Построение гистограмм для столбцов\n",
        "    for j in range(m):\n",
        "        plt.figure(figsize=(10, 4))\n",
        "        plt.hist(matrix[:, j], bins=10, alpha=0.75, color='green', edgecolor='black')\n",
        "        plt.title(f'Гистограмма столбца {j+1}')\n",
        "        plt.xlabel('Значение')\n",
        "        plt.ylabel('Частота')\n",
        "        plt.grid(True)\n",
        "        plt.show()\n"
      ]
    },
    {
      "cell_type": "markdown",
      "metadata": {
        "id": "BDyATNdM0dJ2"
      },
      "source": [
        "<h1>Задача 5. Напишите функцию, которая заполняет матрицу $(m, n)$ в шахматном порядке заданными числами $a$ и $b$. Напишите тесты для кода"
      ]
    },
    {
      "cell_type": "code",
      "execution_count": null,
      "metadata": {
        "id": "RWNJYWQGecS6"
      },
      "outputs": [],
      "source": [
        "def chess(m, n, a, b):\n",
        "    # Создание пустой матрицы\n",
        "    matrix = [[0] * n for _ in range(m)]\n",
        "    \n",
        "    # Заполнение матрицы в шахматном порядке\n",
        "    for i in range(m):\n",
        "        for j in range(n):\n",
        "            if (i + j) % 2 == 0:\n",
        "                matrix[i][j] = a\n",
        "            else:\n",
        "                matrix[i][j] = b\n",
        "\n",
        "\n",
        "def test_chess():\n",
        "    result1 = chess(2, 2, 1, 0)\n",
        "    expected1 = np.array([[1, 0], [0, 1]])  \n",
        "    assert np.array_equal(result1, expected1)\n",
        "\n",
        "    result2 = chess(3, 3, 1, 0)\n",
        "    expected2 = np.array([[1, 0, 1], [0, 1, 0], [1, 0, 1]])  \n",
        "    assert np.array_equal(result2, expected2)\n",
        "    \n",
        "test_chess()"
      ]
    },
    {
      "cell_type": "markdown",
      "metadata": {
        "id": "-ymXLtTN0vB6"
      },
      "source": [
        "<h1>Задача 6. Напишите функцию, которая отрисовывает прямоугольник с заданными размерами (a, b) на изображении размера (m, n), цвет фона задайте в схеме RGB, как и цвет прямоугольника. Цвета также должны быть параметрами функции. Напишите аналогичную функцию но для овала с полуосями a и b. Напишите тесты для кода.\n",
        "Примечание: уравнение эллипса (границы овала) можно записать как:\n",
        "<h1>$\\frac{(x-x_0)^2}{a^2}+\\frac{(y-y_0)^2}{b^2}=1$"
      ]
    },
    {
      "cell_type": "code",
      "execution_count": 1,
      "metadata": {
        "id": "sNfl1t_kfOF4"
      },
      "outputs": [],
      "source": [
        "from PIL import Image, ImageDraw\n",
        "\n",
        "def draw_rectangle(a, b, m, n, rectangle_color=(0, 0, 0), background_color=(255, 255, 255)):\n",
        "    # Создаем изображение\n",
        "    image = Image.new(\"RGB\", (n, m), background_color)\n",
        "    draw = ImageDraw.Draw(image)\n",
        "\n",
        "    # Определяем координаты для прямоугольника и отрисовываем его\n",
        "    draw.rectangle([a, b, 0, 0], fill=rectangle_color)\n",
        "    return image\n",
        "\n",
        "\n",
        "def draw_ellipse(a, b, m, n, ellipse_color=(0, 0, 0), background_color=(255, 255, 255)):\n",
        "    # Создаем изображение\n",
        "    image = Image.new(\"RGB\", (n, m), background_color)\n",
        "    draw = ImageDraw.Draw(image)\n",
        "\n",
        "    # Определяем координаты для овала и отрисовываем его\n",
        "    draw.ellipse([a * 2, b * 2, 0, 0], fill=ellipse_color) \n",
        "    return image\n",
        "\n",
        "\n",
        "def test_draw_shapes():\n",
        "    # тест для прямоугольника\n",
        "    draw_rectangle(50, 30, 100, 100, background_color=(255, 0, 0), rectangle_color=(255, 255, 255))\n",
        "\n",
        "    # тест для овала\n",
        "    draw_ellipse(100, 200, 50, 30, background_color=(255, 255, 255), ellipse_color=(0, 255, 0)) \n",
        "\n",
        "test_draw_shapes()"
      ]
    },
    {
      "cell_type": "markdown",
      "metadata": {
        "id": "S82c38oz244H"
      },
      "source": [
        "<h1>Задача 7. Дан некий временной ряд. Для данного ряда нужно найти его: математическое ожидание, дисперсию, СКО, найти все локальные максимумы и минимумы (локальный максимум - это точка, которая больше своих соседних точек, а локальный минимум - это точка, которая меньше своих соседей), а также вычислить для данного ряда другой ряд, получаемый методом скользящего среднего с размером окна $p$.\n",
        "<h1>Примечание: метод скользящего среднего подразумевает нахождение среднего из подмножетсва ряда размером $p$"
      ]
    },
    {
      "cell_type": "code",
      "execution_count": null,
      "metadata": {
        "id": "Zb9mIVge5MMt"
      },
      "outputs": [],
      "source": [
        "# Your code goes here"
      ]
    },
    {
      "cell_type": "markdown",
      "metadata": {
        "id": "jPkylmOX5O9n"
      },
      "source": [
        "<h1> Задача 8. Дан некоторый вектор с целочисленными метками классов, напишите функцию, которая выполняет one-hot-encoding для данного вектора\n",
        "<h1> One-hot-encoding - представление, в котором на месте метки некоторого класса стоит 1, в остальных позициях стоит 0. Например для вектора [0, 2, 3, 0] one-hot-encoding выглядит как: [[1, 0, 0, 0], [0, 0, 1, 0], [0, 0, 0, 1], [1, 0, 0, 0]]"
      ]
    },
    {
      "cell_type": "code",
      "execution_count": null,
      "metadata": {
        "id": "Y-jlnZvw56lD"
      },
      "outputs": [],
      "source": [
        "# Your code goes here"
      ]
    }
  ],
  "metadata": {
    "colab": {
      "provenance": []
    },
    "kernelspec": {
      "display_name": "Python 3",
      "name": "python3"
    },
    "language_info": {
      "name": "python"
    }
  },
  "nbformat": 4,
  "nbformat_minor": 0
}

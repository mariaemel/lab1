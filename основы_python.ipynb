{
  "cells": [
    {
      "cell_type": "markdown",
      "metadata": {
        "id": "M-DGa20PaHnu"
      },
      "source": [
        "#Задача 1\n",
        "Написать функцию на вход которой подается строка, состоящая из латинских букв.\n",
        "Функция должна вернуть количество гласных букв (a, e, i, o, u) в этой строке. Написать тесты для кода"
      ]
    },
    {
      "cell_type": "code",
      "execution_count": null,
      "metadata": {
        "id": "XvX8X_JJ6PCb"
      },
      "outputs": [],
      "source": [
        "def count_vowel_letters(line):\n",
        "    count = 0\n",
        "    for i in range(0, len(line)):\n",
        "        if line[i] in 'AaEeIiOoUu':\n",
        "            count += 1 \n",
        "    return count\n",
        "\n",
        "\n",
        "def test_count_vowel_letters():\n",
        "    assert count_vowel_letters('hello') == 2\n",
        "    assert count_vowel_letters('fdsa') == 1\n",
        "    assert count_vowel_letters('vbnm') == 0\n",
        "\n",
        "test_count_vowel_letters()"
      ]
    },
    {
      "cell_type": "markdown",
      "metadata": {
        "id": "t2ClV_Y0bbr6"
      },
      "source": [
        "# Задача 2\n",
        "Написать функцию на вход, которой подается строка. Функция должна вернуть true, если\n",
        "каждый символ в строке встречается только 1 раз, иначе должна вернуть false. Написать тесты для кода"
      ]
    },
    {
      "cell_type": "code",
      "execution_count": null,
      "metadata": {
        "id": "FppbECao6VIz"
      },
      "outputs": [],
      "source": [
        "def is_all_unique(s):\n",
        "    return len(s) == len(set(s))\n",
        "\n",
        "\n",
        "def test_count_letters():\n",
        "    assert is_all_unique('hello') == False\n",
        "    assert is_all_unique('cat') == True\n",
        "    assert is_all_unique('fdsa') == True\n",
        "\n",
        "test_count_letters()"
      ]
    },
    {
      "cell_type": "markdown",
      "metadata": {
        "id": "udRiIK1cdt6E"
      },
      "source": [
        "# Задача 3\n",
        "Написать функцию, которая принимает положительное число и возвращает количество\n",
        "бит равных 1 в этом числе. Написать тесты для кода"
      ]
    },
    {
      "cell_type": "code",
      "execution_count": null,
      "metadata": {
        "id": "6tkfDJRz6dp_"
      },
      "outputs": [],
      "source": [
        "def count_bit(number):\n",
        "    return bin(number).count('1')\n",
        "\n",
        "\n",
        "def test_count_bit():\n",
        "    assert count_bit(5) == 2\n",
        "    assert count_bit(7) == 3\n",
        "    assert count_bit(15) == 4\n",
        "\n",
        "test_count_bit()"
      ]
    },
    {
      "cell_type": "markdown",
      "metadata": {
        "id": "26dDUz-Ae17N"
      },
      "source": [
        "# Задача 4\n",
        "Написать функцию, которая принимает положительное число. Функция должна вернуть то,\n",
        "сколько раз необходимо перемножать цифры числа или результат перемножения, чтобы\n",
        "получилось число состоящее из одной цифры.\n",
        "Например, для входного числа:\n",
        "· 39 функция должна вернуть 3, так как 3*9=27 => 2*7=14 => 1*4=4\n",
        "· 4 функция должна вернуть 0, так как число уже состоит из одной цифры\n",
        "· 999 функция должна вернуть 4, так как 9*9*9=729 => 7*2*9=126 => 1*2*6=12 =>\n",
        "1*2=2. Написать тесты для кода"
      ]
    },
    {
      "cell_type": "code",
      "execution_count": null,
      "metadata": {
        "id": "BH1A_Mgi6i4G"
      },
      "outputs": [],
      "source": [
        "def magic(number):\n",
        "    if number < 10:\n",
        "        return number\n",
        "\n",
        "    while number >= 10:\n",
        "        new_number = 1\n",
        "        for digit in str(number):\n",
        "            new_number *= int(digit)\n",
        "        number = new_number  \n",
        "\n",
        "    return number\n",
        "\n",
        "def test_magic():\n",
        "    assert magic(25) == 2\n",
        "    assert magic(999) == 4\n",
        "    assert magic(4) == 0\n",
        "\n",
        "test_magic()\n"
      ]
    },
    {
      "cell_type": "markdown",
      "metadata": {
        "id": "0nS-kIa8g8vd"
      },
      "source": [
        "# Задача 5\n",
        "Написать функцию, которая принимает два целочисленных вектора одинаковой длины и\n",
        "возвращает среднеквадратическое отклонение двух векторов. Написать тесты для кода"
      ]
    },
    {
      "cell_type": "code",
      "execution_count": null,
      "metadata": {
        "id": "8iphx4LM6xbx"
      },
      "outputs": [],
      "source": [
        "def mse(pred, true):\n",
        "    return sum((p - t) ** 2 for p, t in zip(pred, true)) / len(pred)\n",
        "\n",
        "\n",
        "def test_mse():\n",
        "    assert mse([1, 2, 3], [1, 2, 3]) == 0\n",
        "    assert mse([1, 2, 3], [4, 5, 6]) == 9\n",
        "    assert mse([0, 0, 0], [1, 1, 1]) == 1\n",
        "\n",
        "test_mse()"
      ]
    },
    {
      "cell_type": "markdown",
      "metadata": {
        "id": "vpIPKL439zkw"
      },
      "source": [
        "# Задача 6\n",
        "Написать функцию, принимающая целое положительное число. Функция должна вернуть\n",
        "строку вида “(n1**p1)(n2**p2)…(nk**pk)” представляющая разложение числа на простые\n",
        "множители (если pi == 1, то выводить только ni).\n",
        "Например, для числа 86240 функция должна вернуть “(2**5)(5)(7**2)(11)”. Написать тесты для кода"
      ]
    },
    {
      "cell_type": "code",
      "execution_count": null,
      "metadata": {
        "id": "pFebmcZk94Jw"
      },
      "outputs": [],
      "source": [
        "def prime_factors(n):\n",
        "    factors = []\n",
        "    d = 2\n",
        "    while d * d <= n:\n",
        "        count = 0\n",
        "        while (n % d) == 0:\n",
        "            n //= d\n",
        "            count += 1\n",
        "        if count > 0:\n",
        "            if count == 1:\n",
        "                factors.append(f\"({d})\")\n",
        "            else:\n",
        "                factors.append(f\"({d}**{count})\")\n",
        "        d += 1\n",
        "    if n > 1:\n",
        "        factors.append(f\"({n})\")\n",
        "    return ''.join(factors)\n",
        "\n",
        "\n",
        "def test_prime_factors():\n",
        "    assert prime_factors(13) == \"(13)\"\n",
        "    assert prime_factors(86240) == \"(2**5)(5)(7**2)(11)\"\n",
        "    assert prime_factors(28) == \"(2**2)(7)\"\n",
        "\n",
        "test_prime_factors()"
      ]
    },
    {
      "cell_type": "markdown",
      "metadata": {
        "id": "ps2s0BudX7A2"
      },
      "source": [
        "# Задача 7\n",
        "Написать функцию, принимающая целое число n, задающее количество кубиков. Функция\n",
        "должна определить, можно ли из данного кол-ва кубиков построить пирамиду, то есть\n",
        "можно ли представить число n как 1^2+2^2+3^2+…+k^2. Если можно, то функция должна\n",
        "вернуть k, иначе строку “It is impossible”. Написать тесты для кода"
      ]
    },
    {
      "cell_type": "code",
      "execution_count": null,
      "metadata": {
        "id": "3YPjEXxhX_YT"
      },
      "outputs": [],
      "source": [
        "def pyramid(n):\n",
        "    if n < 1:\n",
        "        return 'It is impossible'\n",
        "    k = 1\n",
        "    total_cubes = 0\n",
        "    while total_cubes < n:\n",
        "        total_cubes += k**2\n",
        "        if total_cubes == n:\n",
        "            return k\n",
        "        k += 1\n",
        "    return 'It is impossible'\n",
        "\n",
        "\n",
        "def test_pyramid():\n",
        "    assert pyramid(91) == 6\n",
        "    assert pyramid(14) == 3\n",
        "    assert pyramid(3) == 'It is impossible'\n",
        "\n",
        "test_pyramid()"
      ]
    },
    {
      "cell_type": "markdown",
      "metadata": {
        "id": "KeKgmIdAQMEJ"
      },
      "source": [
        "# Задача 8\n",
        "Функция принимает на вход положительное число и определяет является ли оно сбалансированным, т.е. сумма цифр до средних равна сумме цифр после. Средними в случае нечетного числа цифр считать одну цифру, в случае четного - две средних. Написать тесты для кода"
      ]
    },
    {
      "cell_type": "code",
      "execution_count": null,
      "metadata": {
        "id": "gMAAqtqlQrZt"
      },
      "outputs": [],
      "source": [
        "def is_balanced_number(number):\n",
        "    str_number = str(number)\n",
        "    middle = len(str_number) // 2\n",
        "    if len(str_number) % 2 == 0:\n",
        "        left, right = str_number[:middle], str_number[middle:]\n",
        "    else:\n",
        "        left, right = str_number[:middle], str_number[middle+1:]\n",
        "    return sum(map(int, left)) == sum(map(int, right))\n",
        "\n",
        "\n",
        "def test_balanced_number():\n",
        "    assert is_balanced_number(123456) == False\n",
        "    assert is_balanced_number(121) == True\n",
        "    assert is_balanced_number(123321) == True\n",
        "\n",
        "test_balanced_number()"
      ]
    }
  ],
  "metadata": {
    "colab": {
      "provenance": []
    },
    "kernelspec": {
      "display_name": "Python 3",
      "name": "python3"
    },
    "language_info": {
      "name": "python"
    }
  },
  "nbformat": 4,
  "nbformat_minor": 0
}
